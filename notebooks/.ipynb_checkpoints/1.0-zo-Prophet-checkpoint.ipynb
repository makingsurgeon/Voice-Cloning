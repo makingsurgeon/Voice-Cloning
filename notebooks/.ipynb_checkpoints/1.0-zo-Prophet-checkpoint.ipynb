{
 "cells": [
  {
   "cell_type": "code",
   "execution_count": null,
   "id": "4223303a-4ce3-4c3b-a765-7f36338d8e09",
   "metadata": {},
   "outputs": [],
   "source": [
    "import yfinance as yf\n",
    "import matplotlib.pyplot as plt\n",
    "from prophet import Prophet"
   ]
  },
  {
   "cell_type": "code",
   "execution_count": null,
   "id": "db5abffc-2a1d-4f5c-acf9-da99a73a4398",
   "metadata": {},
   "outputs": [],
   "source": [
    "data = yf.download('MSFT','2020-01-01', '2023-09-09')"
   ]
  },
  {
   "cell_type": "code",
   "execution_count": null,
   "id": "36828029-0cc1-4591-a464-4c0adfd75f02",
   "metadata": {},
   "outputs": [],
   "source": [
    "data = data.reset_index()\n",
    "training_set = data.iloc[:756, [0,5]]"
   ]
  },
  {
   "cell_type": "code",
   "execution_count": null,
   "id": "17f84a05-0a1b-4c98-bb37-74ad21a596a4",
   "metadata": {},
   "outputs": [],
   "source": [
    "real_stock_price = data.iloc[756:, 4:5].values.tolist()\n",
    "a = []\n",
    "for i in range(172):\n",
    "    a.append(float(real_stock_price[i][0]))\n",
    "plt.plot(a, color = 'black')"
   ]
  },
  {
   "cell_type": "code",
   "execution_count": null,
   "id": "353f5595-ec51-4529-b643-5be09424d0e7",
   "metadata": {},
   "outputs": [],
   "source": [
    "m = Prophet(growth = \"flat\")\n",
    "m.fit(training_set1)"
   ]
  },
  {
   "cell_type": "code",
   "execution_count": null,
   "id": "28780c33-a3e1-47af-8262-481bc185747b",
   "metadata": {},
   "outputs": [],
   "source": [
    "training_set"
   ]
  },
  {
   "cell_type": "code",
   "execution_count": null,
   "id": "7736030f-74d9-4d8a-bafe-0ae826dfe7af",
   "metadata": {},
   "outputs": [],
   "source": [
    "training_set1 = training_set.rename(columns={'Date': 'ds', 'Adj Close':'y'})"
   ]
  },
  {
   "cell_type": "code",
   "execution_count": null,
   "id": "0dff5c56-f1a2-410b-bee7-3cf0a54e0153",
   "metadata": {},
   "outputs": [],
   "source": [
    "training_set1"
   ]
  },
  {
   "cell_type": "code",
   "execution_count": null,
   "id": "777f1d4d-69ca-48ec-9fe1-b819dda4322c",
   "metadata": {},
   "outputs": [],
   "source": [
    "!pip install prophet==1.0ç"
   ]
  },
  {
   "cell_type": "code",
   "execution_count": null,
   "id": "75e7d068-5d1c-487c-a05e-cb8f34b85092",
   "metadata": {},
   "outputs": [],
   "source": [
    "import prophet\n",
    "prophet.__version__"
   ]
  },
  {
   "cell_type": "code",
   "execution_count": null,
   "id": "2d564280-6663-4d63-a4c8-6e2d703c7373",
   "metadata": {},
   "outputs": [],
   "source": []
  }
 ],
 "metadata": {
  "kernelspec": {
   "display_name": "Python 3 (ipykernel)",
   "language": "python",
   "name": "python3"
  },
  "language_info": {
   "codemirror_mode": {
    "name": "ipython",
    "version": 3
   },
   "file_extension": ".py",
   "mimetype": "text/x-python",
   "name": "python",
   "nbconvert_exporter": "python",
   "pygments_lexer": "ipython3",
   "version": "3.8.17"
  }
 },
 "nbformat": 4,
 "nbformat_minor": 5
}
