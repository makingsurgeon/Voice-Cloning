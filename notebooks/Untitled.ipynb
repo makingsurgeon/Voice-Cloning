{
 "cells": [
  {
   "cell_type": "code",
   "execution_count": 1,
   "id": "34612977-0309-4ea0-9dfd-45ee9421aa4e",
   "metadata": {},
   "outputs": [],
   "source": [
    "from pydub import AudioSegment"
   ]
  },
  {
   "cell_type": "code",
   "execution_count": 5,
   "id": "7588882c-0cac-4e9f-91f0-a12f387133e4",
   "metadata": {},
   "outputs": [
    {
     "data": {
      "text/plain": [
       "<_io.BufferedRandom name='/Users/zihuiouyang/Documents/fake-audio-detector/data/testme3.flac'>"
      ]
     },
     "execution_count": 5,
     "metadata": {},
     "output_type": "execute_result"
    }
   ],
   "source": [
    "song = AudioSegment.from_wav(\"/Users/zihuiouyang/Documents/fake-audio-detector/data/output4.wav\")\n",
    "song.export(\"/Users/zihuiouyang/Documents/fake-audio-detector/data/testme3.flac\",format = \"flac\")"
   ]
  },
  {
   "cell_type": "code",
   "execution_count": null,
   "id": "b6429208-abd9-428f-904d-4babc9630495",
   "metadata": {},
   "outputs": [],
   "source": []
  }
 ],
 "metadata": {
  "kernelspec": {
   "display_name": "Python 3 (ipykernel)",
   "language": "python",
   "name": "python3"
  },
  "language_info": {
   "codemirror_mode": {
    "name": "ipython",
    "version": 3
   },
   "file_extension": ".py",
   "mimetype": "text/x-python",
   "name": "python",
   "nbconvert_exporter": "python",
   "pygments_lexer": "ipython3",
   "version": "3.9.18"
  }
 },
 "nbformat": 4,
 "nbformat_minor": 5
}
